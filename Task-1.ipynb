{
 "cells": [
  {
   "cell_type": "markdown",
   "metadata": {},
   "source": [
    "### **1. Test and filter outliers**"
   ]
  },
  {
   "cell_type": "code",
   "execution_count": 1,
   "metadata": {},
   "outputs": [],
   "source": [
    "import pandas as pd\n",
    "import numpy as np\n",
    "import matplotlib.pyplot as plt\n",
    "import matplotlib.patches as mpatches\n",
    "import seaborn as sns"
   ]
  },
  {
   "cell_type": "markdown",
   "metadata": {},
   "source": [
    "#### **Finding the type of outliers and Removing them**\n",
    "IQR (Inter Quartile Range method is used to find the outliers in particular type of crops. Lower thresholds and Upper thresholds are defined and the data in filtered on the range of lower and upper threshold"
   ]
  },
  {
   "cell_type": "code",
   "execution_count": 2,
   "metadata": {},
   "outputs": [],
   "source": [
    "#finding the outliers on the basis of different Types of crops and their msprice\n",
    "def type_outliers(df):\n",
    "    types=list(df[\"Type\"].unique())\n",
    "    for typ in types:\n",
    "        data_temp=df[df[\"Type\"]==typ] # Entire data of one type of crop\n",
    "        actual=len(data_temp) # Total instances of each crop type\n",
    "        q1 = data_temp[\"msprice\"].quantile(0.25)\n",
    "        q3 = data_temp[\"msprice\"].quantile(0.75)\n",
    "        iqr = q3-q1 #Interquartile range\n",
    "        lower_threshold  = q1-1.5*iqr\n",
    "        upper_threshold = q3+1.5*iqr\n",
    "        data_filter=data_temp[(data_temp[\"msprice\"] > lower_threshold) & (data_temp[\"msprice\"] < upper_threshold)]\n",
    "        filtered=len(data_filter)\n",
    "        if actual!=filtered:\n",
    "            print(typ)\n",
    "        else:\n",
    "            print(\"No outlier found in \",typ)"
   ]
  },
  {
   "cell_type": "code",
   "execution_count": 3,
   "metadata": {},
   "outputs": [],
   "source": [
    "def cmo_msp_remove_outliers(df):\n",
    "    data = pd.DataFrame()\n",
    "    commodities = list(df[\"commodity\"].unique())\n",
    "    for commodity in commodities:\n",
    "        data_temp = df[df[\"commodity\"]==commodity]\n",
    "        actual_length = len(data_temp)\n",
    "        if actual_length>1:\n",
    "            q1 = data_temp[\"msprice\"].quantile(0.25)\n",
    "            q3 = data_temp[\"msprice\"].quantile(0.75)\n",
    "            iqr = q3-q1 #interquartile range\n",
    "            #defining the thresholds\n",
    "            lower_threshold = q1-1.5*iqr\n",
    "            upper_threshold = q3-1.5*iqr\n",
    "            data_temp = data_temp.loc[(data_temp['msprice'] > lower_threshold) & (data_temp['msprice'] < upper_threshold)]\n",
    "            data_temp.sort_values(\"year\", inplace=True)\n",
    "        data = pd.concat([data,data_temp])\n",
    "        data.reset_index(drop=True,inplace=True)\n",
    "    return data"
   ]
  },
  {
   "cell_type": "code",
   "execution_count": 4,
   "metadata": {},
   "outputs": [],
   "source": [
    "def plot_outliers_commodities(df):\n",
    "    commodities = list(df[\"commodity\"].unique())\n",
    "    flag=0\n",
    "    for commodity in commodities:\n",
    "        data_temp=df[df[\"commodity\"]==commodity] # taking one type of commodity in one iteration\n",
    "        actual=len(data_temp)\n",
    "        if actual>1 :\n",
    "            q1 = data_temp[\"msprice\"].quantile(0.25)\n",
    "            q3 = data_temp[\"msprice\"].quantile(0.75)\n",
    "            iqr = q3-q1 #Interquartile range\n",
    "            lower_threshold  = q1-1.5*iqr\n",
    "            upper_threshold = q3+1.5*iqr\n",
    "            data_filter=data_temp[(data_temp[\"msprice\"] > lower_threshold) & (data_temp[\"msprice\"] < upper_threshold)]\n",
    "            filtered=len(data_filter)\n",
    "            if actual!=filtered:\n",
    "                flag=1\n",
    "                plt.figure(figsize=(6,4))\n",
    "                plt.title(commodity)\n",
    "                sns.boxplot(x=\"commodity\", y=\"msprice\",data=data_filter) #box plot\n",
    "                sns.stripplot(x=\"commodity\", y=\"msprice\",data=data_temp,\n",
    "                                 jitter=True,marker='o',alpha=0.5,color='red') #overlay data points (show outliers which are not compensated)\n",
    "                patch_1 = mpatches.Patch(color='#31749F', label=commodity)\n",
    "                patch_2 = mpatches.Patch(color='red',alpha=0.5,label='Data Points')\n",
    "                plt.legend(handles=[patch_1,patch_2])\n",
    "                plt.show()\n",
    "    if flag==0:\n",
    "        print(\"No commodity price outlier in \",df[\"Type\"].iloc[0] )"
   ]
  },
  {
   "cell_type": "markdown",
   "metadata": {},
   "source": [
    "### **Dataset: CMO_MSP_Mandi.csv**"
   ]
  },
  {
   "cell_type": "code",
   "execution_count": 25,
   "metadata": {},
   "outputs": [],
   "source": [
    "data = pd.read_csv(\"F:/SocialCops Internship/Mandi Data/CMO_MSP_Mandi.csv\")\n",
    "data = data.dropna(subset=[\"msprice\"])"
   ]
  },
  {
   "cell_type": "code",
   "execution_count": 26,
   "metadata": {},
   "outputs": [
    {
     "data": {
      "text/html": [
       "<div>\n",
       "<style scoped>\n",
       "    .dataframe tbody tr th:only-of-type {\n",
       "        vertical-align: middle;\n",
       "    }\n",
       "\n",
       "    .dataframe tbody tr th {\n",
       "        vertical-align: top;\n",
       "    }\n",
       "\n",
       "    .dataframe thead th {\n",
       "        text-align: right;\n",
       "    }\n",
       "</style>\n",
       "<table border=\"1\" class=\"dataframe\">\n",
       "  <thead>\n",
       "    <tr style=\"text-align: right;\">\n",
       "      <th></th>\n",
       "      <th>commodity</th>\n",
       "      <th>year</th>\n",
       "      <th>Type</th>\n",
       "      <th>msprice</th>\n",
       "      <th>msp_filter</th>\n",
       "    </tr>\n",
       "  </thead>\n",
       "  <tbody>\n",
       "    <tr>\n",
       "      <th>0</th>\n",
       "      <td>PADDY-UNHUSKED</td>\n",
       "      <td>2012</td>\n",
       "      <td>Kharif Crops</td>\n",
       "      <td>1250.0</td>\n",
       "      <td>1</td>\n",
       "    </tr>\n",
       "    <tr>\n",
       "      <th>1</th>\n",
       "      <td>RICE(PADDY-HUS)</td>\n",
       "      <td>2012</td>\n",
       "      <td>Kharif Crops</td>\n",
       "      <td>1280.0</td>\n",
       "      <td>1</td>\n",
       "    </tr>\n",
       "    <tr>\n",
       "      <th>2</th>\n",
       "      <td>Jowar_Hybrid</td>\n",
       "      <td>2012</td>\n",
       "      <td>Kharif Crops</td>\n",
       "      <td>1500.0</td>\n",
       "      <td>1</td>\n",
       "    </tr>\n",
       "    <tr>\n",
       "      <th>3</th>\n",
       "      <td>SORGUM(JAWAR)</td>\n",
       "      <td>2012</td>\n",
       "      <td>Kharif Crops</td>\n",
       "      <td>1520.0</td>\n",
       "      <td>1</td>\n",
       "    </tr>\n",
       "    <tr>\n",
       "      <th>4</th>\n",
       "      <td>BAJRI</td>\n",
       "      <td>2012</td>\n",
       "      <td>Kharif Crops</td>\n",
       "      <td>1175.0</td>\n",
       "      <td>1</td>\n",
       "    </tr>\n",
       "  </tbody>\n",
       "</table>\n",
       "</div>"
      ],
      "text/plain": [
       "         commodity  year          Type  msprice  msp_filter\n",
       "0   PADDY-UNHUSKED  2012  Kharif Crops   1250.0           1\n",
       "1  RICE(PADDY-HUS)  2012  Kharif Crops   1280.0           1\n",
       "2     Jowar_Hybrid  2012  Kharif Crops   1500.0           1\n",
       "3    SORGUM(JAWAR)  2012  Kharif Crops   1520.0           1\n",
       "4            BAJRI  2012  Kharif Crops   1175.0           1"
      ]
     },
     "execution_count": 26,
     "metadata": {},
     "output_type": "execute_result"
    }
   ],
   "source": [
    "data.head()"
   ]
  },
  {
   "cell_type": "code",
   "execution_count": 32,
   "metadata": {},
   "outputs": [
    {
     "data": {
      "text/plain": [
       "<matplotlib.axes._subplots.AxesSubplot at 0x1bebf0bb240>"
      ]
     },
     "execution_count": 32,
     "metadata": {},
     "output_type": "execute_result"
    },
    {
     "data": {
      "image/png": "[encoded data removed]",
      "text/plain": [
       "<matplotlib.figure.Figure at 0x1bebf18f198>"
      ]
     },
     "metadata": {},
     "output_type": "display_data"
    }
   ],
   "source": [
    "#Bar plot for different types of crops\n",
    "(data['Type'].value_counts()/len(data)).plot.bar()"
   ]
  },
  {
   "cell_type": "markdown",
   "metadata": {},
   "source": [
    "From the above bar graph, we can conclude than Kharif crops are more than Rabi Crops"
   ]
  },
  {
   "cell_type": "markdown",
   "metadata": {},
   "source": [
    "### **Overall Boxplot Visualization**"
   ]
  },
  {
   "cell_type": "code",
   "execution_count": 7,
   "metadata": {},
   "outputs": [
    {
     "data": {
      "image/png": "[encoded data removed]",
      "text/plain": [
       "<matplotlib.figure.Figure at 0x1bebafa8550>"
      ]
     },
     "metadata": {},
     "output_type": "display_data"
    }
   ],
   "source": [
    "plt.figure(figsize=(10,10))\n",
    "sns.boxplot(x=\"Type\",y=\"msprice\", hue=\"Type\", data=data)\n",
    "sns.stripplot(x=\"Type\",y=\"msprice\",data=data, jitter=True, marker='o',alpha=0.5,color='black')\n",
    "patch_1 = mpatches.Patch(color='#5DBCD2', label='Kharif Crops')\n",
    "patch_2 = mpatches.Patch(color='#E58028', label='Rabi Crops')\n",
    "patch_3 = mpatches.Patch(color='#297925', label='Other Crops')\n",
    "patch_4= mpatches.Patch(color='black', label='Data points',alpha=0.5)\n",
    "plt.legend(handles=[patch_1,patch_2,patch_3,patch_4])\n",
    "plt.show()"
   ]
  },
  {
   "cell_type": "markdown",
   "metadata": {},
   "source": [
    "### **Finding outliers for  particular type of crops**"
   ]
  },
  {
   "cell_type": "code",
   "execution_count": 8,
   "metadata": {},
   "outputs": [
    {
     "name": "stdout",
     "output_type": "stream",
     "text": [
      "No outlier found in  Kharif Crops\n",
      "No outlier found in  Rabi Crops\n",
      "No outlier found in  Other Crops\n"
     ]
    }
   ],
   "source": [
    "type_outliers(data)"
   ]
  },
  {
   "cell_type": "markdown",
   "metadata": {},
   "source": [
    "### **Finding outliers for commodities in a particular type of crops**"
   ]
  },
  {
   "cell_type": "markdown",
   "metadata": {},
   "source": [
    "**Kharif Crops**"
   ]
  },
  {
   "cell_type": "code",
   "execution_count": 9,
   "metadata": {},
   "outputs": [
    {
     "data": {
      "image/png": "[encoded data removed]",
      "text/plain": [
       "<matplotlib.figure.Figure at 0x1bebafa8358>"
      ]
     },
     "metadata": {},
     "output_type": "display_data"
    },
    {
     "data": {
      "image/png": "[encoded data removed]",
      "text/plain": [
       "<matplotlib.figure.Figure at 0x1bebd0d8278>"
      ]
     },
     "metadata": {},
     "output_type": "display_data"
    },
    {
     "data": {
      "image/png": "[encoded data removed]",
      "text/plain": [
       "<matplotlib.figure.Figure at 0x1bebd12b710>"
      ]
     },
     "metadata": {},
     "output_type": "display_data"
    },
    {
     "data": {
      "image/png": "[encoded data removed]",
      "text/plain": [
       "<matplotlib.figure.Figure at 0x1bebd165940>"
      ]
     },
     "metadata": {},
     "output_type": "display_data"
    },
    {
     "data": {
      "image/png": "[encoded data removed]",
      "text/plain": [
       "<matplotlib.figure.Figure at 0x1bebd1bf470>"
      ]
     },
     "metadata": {},
     "output_type": "display_data"
    }
   ],
   "source": [
    "plot_outliers_commodities(data[data[\"Type\"]==\"Kharif Crops\"])"
   ]
  },
  {
   "cell_type": "markdown",
   "metadata": {},
   "source": [
    "**Rabi Crops**"
   ]
  },
  {
   "cell_type": "code",
   "execution_count": 10,
   "metadata": {},
   "outputs": [
    {
     "data": {
      "image/png": "[encoded data removed]",
      "text/plain": [
       "<matplotlib.figure.Figure at 0x1bebd2ad780>"
      ]
     },
     "metadata": {},
     "output_type": "display_data"
    },
    {
     "data": {
      "image/png": "[encoded data removed]",
      "text/plain": [
       "<matplotlib.figure.Figure at 0x1bebd4c1da0>"
      ]
     },
     "metadata": {},
     "output_type": "display_data"
    }
   ],
   "source": [
    "plot_outliers_commodities(data[data[\"Type\"]==\"Rabi Crops\"])"
   ]
  },
  {
   "cell_type": "markdown",
   "metadata": {},
   "source": [
    "**Other Crops**"
   ]
  },
  {
   "cell_type": "code",
   "execution_count": 11,
   "metadata": {},
   "outputs": [
    {
     "name": "stdout",
     "output_type": "stream",
     "text": [
      "No commodity price outlier in  Other Crops\n"
     ]
    }
   ],
   "source": [
    "plot_outliers_commodities(data[data[\"Type\"]==\"Other Crops\"])"
   ]
  },
  {
   "cell_type": "markdown",
   "metadata": {},
   "source": [
    "**Remove outliers and save as csv file**"
   ]
  },
  {
   "cell_type": "code",
   "execution_count": 12,
   "metadata": {},
   "outputs": [],
   "source": [
    "data_without_outliers = cmo_msp_remove_outliers(data)\n",
    "data.to_csv(\"CMO_MSP_Mandi_filtered.csv\",index=False)"
   ]
  },
  {
   "cell_type": "markdown",
   "metadata": {},
   "source": [
    "### **Dataset: Monthly_data_cmo.csv**"
   ]
  },
  {
   "cell_type": "code",
   "execution_count": 13,
   "metadata": {},
   "outputs": [
    {
     "name": "stdout",
     "output_type": "stream",
     "text": [
      "<class 'pandas.core.frame.DataFrame'>\n",
      "Int64Index: 62225 entries, 0 to 62428\n",
      "Data columns (total 11 columns):\n",
      "APMC               62225 non-null object\n",
      "Commodity          62225 non-null object\n",
      "Year               62225 non-null int64\n",
      "Month              62225 non-null object\n",
      "arrivals_in_qtl    62225 non-null int64\n",
      "min_price          62225 non-null int64\n",
      "max_price          62225 non-null int64\n",
      "modal_price        62225 non-null int64\n",
      "date               62225 non-null object\n",
      "district_name      62225 non-null object\n",
      "state_name         62225 non-null object\n",
      "dtypes: int64(5), object(6)\n",
      "memory usage: 5.7+ MB\n"
     ]
    }
   ],
   "source": [
    "df=pd.read_csv(\"F:/SocialCops Internship/Mandi Data//Monthly_data_cmo.csv\")\n",
    "df[\"Commodity\"]=df[\"Commodity\"].apply( lambda x : x.lower())\n",
    "df=df[df[\"modal_price\"]!=0]\n",
    "df.info()\n",
    "#df[\"date\"]=pd.to_datetime(df[\"date\"])"
   ]
  },
  {
   "cell_type": "markdown",
   "metadata": {},
   "source": [
    "Since, date column is showing object, converting it into datetime "
   ]
  },
  {
   "cell_type": "code",
   "execution_count": 14,
   "metadata": {},
   "outputs": [
    {
     "name": "stdout",
     "output_type": "stream",
     "text": [
      "<class 'pandas.core.frame.DataFrame'>\n",
      "Int64Index: 62225 entries, 0 to 62428\n",
      "Data columns (total 11 columns):\n",
      "APMC               62225 non-null object\n",
      "Commodity          62225 non-null object\n",
      "Year               62225 non-null int64\n",
      "Month              62225 non-null object\n",
      "arrivals_in_qtl    62225 non-null int64\n",
      "min_price          62225 non-null int64\n",
      "max_price          62225 non-null int64\n",
      "modal_price        62225 non-null int64\n",
      "date               62225 non-null datetime64[ns]\n",
      "district_name      62225 non-null object\n",
      "state_name         62225 non-null object\n",
      "dtypes: datetime64[ns](1), int64(5), object(5)\n",
      "memory usage: 5.7+ MB\n"
     ]
    },
    {
     "data": {
      "text/plain": [
       "(62225, 11)"
      ]
     },
     "execution_count": 14,
     "metadata": {},
     "output_type": "execute_result"
    }
   ],
   "source": [
    "df[\"date\"] =pd.to_datetime(df[\"date\"])\n",
    "df.info()\n",
    "df.shape"
   ]
  },
  {
   "cell_type": "code",
   "execution_count": 15,
   "metadata": {},
   "outputs": [
    {
     "data": {
      "text/plain": [
       "349"
      ]
     },
     "execution_count": 15,
     "metadata": {},
     "output_type": "execute_result"
    }
   ],
   "source": [
    "apmc_list = df[\"APMC\"].unique()\n",
    "len(apmc_list)"
   ]
  },
  {
   "cell_type": "markdown",
   "metadata": {},
   "source": [
    "#### **There are total 349 distinct APMC (Agriculture Produce Market Committees)**\n",
    "\n",
    "##### **For finding and removing outliers**\n",
    "\n",
    "IQR method is used"
   ]
  },
  {
   "cell_type": "code",
   "execution_count": 16,
   "metadata": {},
   "outputs": [],
   "source": [
    "#finding outliers and removing them according to the modal price in each commodity\n",
    "def remove_outliers(df):\n",
    "    data_main=pd.DataFrame()\n",
    "    commodities=list(df[\"Commodity\"].unique())\n",
    "    for commodity in commodities:\n",
    "        data_temp=df[df[\"Commodity\"]==commodity]\n",
    "        actual=len(data_temp)\n",
    "        if actual>1:\n",
    "            q1 = data_temp[\"modal_price\"].quantile(0.25)\n",
    "            q3 = data_temp[\"modal_price\"].quantile(0.75)\n",
    "            iqr = q3-q1 #Interquartile range\n",
    "            lower_threshold  = q1-1.5*iqr\n",
    "            upper_threshold = q3+1.5*iqr\n",
    "            filtered_values=[upper_threshold if x> upper_threshold else x for x in data_temp[\"modal_price\"].tolist()]\n",
    "            filtered_values=[lower_threshold if x< lower_threshold else x for x in filtered_values]\n",
    "            data_temp[\"modal_price\"]=filtered_values\n",
    "            data_temp.sort_values(\"date\",inplace=True)\n",
    "            \n",
    "        data_main=pd.concat([data_main,data_temp])\n",
    "        data_main.reset_index(drop=True,inplace=True)\n",
    "    return data_main"
   ]
  },
  {
   "cell_type": "code",
   "execution_count": 18,
   "metadata": {},
   "outputs": [],
   "source": [
    "def plot_price_outliers(df): #plot commodity price outliers in a particular type \n",
    "    commodities=list(df[\"Commodity\"].unique())\n",
    "    flag=0\n",
    "    for commodity in commodities:\n",
    "        data_temp=df[df[\"Commodity\"]==commodity] # taking one type of commodity in one iteration\n",
    "        actual=len(data_temp)\n",
    "        if actual>1 :\n",
    "            q1 = data_temp[\"modal_price\"].quantile(0.25)\n",
    "            q3 = data_temp[\"modal_price\"].quantile(0.75)\n",
    "            iqr = q3-q1 #Interquartile range\n",
    "            lower_threshold  = q1-1.5*iqr\n",
    "            upper_threshold = q3+1.5*iqr\n",
    "            data_filter=data_temp[(data_temp[\"modal_price\"] > lower_threshold) & (data_temp[\"modal_price\"] < upper_threshold)]\n",
    "            filtered=len(data_filter)\n",
    "            if actual!=filtered:\n",
    "                flag=1\n",
    "                plt.figure(figsize=(6,4))\n",
    "                plt.title(commodity)\n",
    "                sns.boxplot(x=\"Commodity\", y=\"modal_price\",data=data_filter) #box plot\n",
    "                sns.stripplot(x=\"Commodity\", y=\"modal_price\",data=data_temp,\n",
    "                                 jitter=True,marker='o',alpha=0.5,color='red') #overlay data points (show outliers which are not compensated)\n",
    "                patch_1 = mpatches.Patch(color='#31749F', label=commodity)\n",
    "                patch_2 = mpatches.Patch(color='red',alpha=0.5,label='Data Points')\n",
    "                plt.legend(handles=[patch_1,patch_2])\n",
    "                plt.show()\n",
    "    if flag==0:\n",
    "        print(\"No modal price outliers found\" )"
   ]
  },
  {
   "cell_type": "code",
   "execution_count": 34,
   "metadata": {},
   "outputs": [
    {
     "name": "stdout",
     "output_type": "stream",
     "text": [
      "Enter APMC:Akole\n",
      "Enter Commodity within that APMC: Mustard\n",
      "No modal price outliers found\n"
     ]
    },
    {
     "name": "stderr",
     "output_type": "stream",
     "text": [
      "C:\\Users\\DELL\\Anaconda3\\lib\\site-packages\\ipykernel_launcher.py:5: UserWarning: Boolean Series key will be reindexed to match DataFrame index.\n",
      "  \"\"\"\n"
     ]
    }
   ],
   "source": [
    "apmc = input(\"Enter APMC:\")\n",
    "comm = input('Enter Commodity within that APMC: ')\n",
    "\n",
    "df_temp = df[df['APMC'] == apmc]\n",
    "df_temp = df_temp[df['Commodity'] == comm]\n",
    "\n",
    "plot_price_outliers(df_temp)"
   ]
  },
  {
   "cell_type": "code",
   "execution_count": 20,
   "metadata": {},
   "outputs": [
    {
     "name": "stderr",
     "output_type": "stream",
     "text": [
      "C:\\Users\\DELL\\Anaconda3\\lib\\site-packages\\ipykernel_launcher.py:16: SettingWithCopyWarning: \n",
      "A value is trying to be set on a copy of a slice from a DataFrame.\n",
      "Try using .loc[row_indexer,col_indexer] = value instead\n",
      "\n",
      "See the caveats in the documentation: http://pandas.pydata.org/pandas-docs/stable/indexing.html#indexing-view-versus-copy\n",
      "  app.launch_new_instance()\n",
      "C:\\Users\\DELL\\Anaconda3\\lib\\site-packages\\ipykernel_launcher.py:17: SettingWithCopyWarning: \n",
      "A value is trying to be set on a copy of a slice from a DataFrame\n",
      "\n",
      "See the caveats in the documentation: http://pandas.pydata.org/pandas-docs/stable/indexing.html#indexing-view-versus-copy\n"
     ]
    },
    {
     "data": {
      "text/plain": [
       "(62225, 11)"
      ]
     },
     "execution_count": 20,
     "metadata": {},
     "output_type": "execute_result"
    }
   ],
   "source": [
    "df_filtered = pd.DataFrame()\n",
    "for apmc in df[\"APMC\"].unique().tolist():\n",
    "    df_temp=df[df[\"APMC\"]==apmc]\n",
    "    data=remove_outliers(df_temp)\n",
    "    df_filtered=pd.concat([df_filtered,data])\n",
    "    \n",
    "df_filtered.shape"
   ]
  },
  {
   "cell_type": "code",
   "execution_count": 21,
   "metadata": {},
   "outputs": [
    {
     "data": {
      "text/html": [
       "<div>\n",
       "<style scoped>\n",
       "    .dataframe tbody tr th:only-of-type {\n",
       "        vertical-align: middle;\n",
       "    }\n",
       "\n",
       "    .dataframe tbody tr th {\n",
       "        vertical-align: top;\n",
       "    }\n",
       "\n",
       "    .dataframe thead th {\n",
       "        text-align: right;\n",
       "    }\n",
       "</style>\n",
       "<table border=\"1\" class=\"dataframe\">\n",
       "  <thead>\n",
       "    <tr style=\"text-align: right;\">\n",
       "      <th></th>\n",
       "      <th>APMC</th>\n",
       "      <th>Commodity</th>\n",
       "      <th>Year</th>\n",
       "      <th>Month</th>\n",
       "      <th>arrivals_in_qtl</th>\n",
       "      <th>min_price</th>\n",
       "      <th>max_price</th>\n",
       "      <th>modal_price</th>\n",
       "      <th>date</th>\n",
       "      <th>district_name</th>\n",
       "      <th>state_name</th>\n",
       "    </tr>\n",
       "  </thead>\n",
       "  <tbody>\n",
       "    <tr>\n",
       "      <th>0</th>\n",
       "      <td>Ahmednagar</td>\n",
       "      <td>bajri</td>\n",
       "      <td>2014</td>\n",
       "      <td>September</td>\n",
       "      <td>24</td>\n",
       "      <td>1400</td>\n",
       "      <td>1750</td>\n",
       "      <td>1575.0</td>\n",
       "      <td>2014-09-01</td>\n",
       "      <td>Ahmadnagar</td>\n",
       "      <td>Maharashtra</td>\n",
       "    </tr>\n",
       "    <tr>\n",
       "      <th>1</th>\n",
       "      <td>Ahmednagar</td>\n",
       "      <td>bajri</td>\n",
       "      <td>2014</td>\n",
       "      <td>November</td>\n",
       "      <td>395</td>\n",
       "      <td>1507</td>\n",
       "      <td>1750</td>\n",
       "      <td>1629.0</td>\n",
       "      <td>2014-11-01</td>\n",
       "      <td>Ahmadnagar</td>\n",
       "      <td>Maharashtra</td>\n",
       "    </tr>\n",
       "    <tr>\n",
       "      <th>2</th>\n",
       "      <td>Ahmednagar</td>\n",
       "      <td>bajri</td>\n",
       "      <td>2015</td>\n",
       "      <td>January</td>\n",
       "      <td>97</td>\n",
       "      <td>1472</td>\n",
       "      <td>1764</td>\n",
       "      <td>1618.0</td>\n",
       "      <td>2015-01-01</td>\n",
       "      <td>Ahmadnagar</td>\n",
       "      <td>Maharashtra</td>\n",
       "    </tr>\n",
       "    <tr>\n",
       "      <th>3</th>\n",
       "      <td>Ahmednagar</td>\n",
       "      <td>bajri</td>\n",
       "      <td>2015</td>\n",
       "      <td>February</td>\n",
       "      <td>10</td>\n",
       "      <td>1500</td>\n",
       "      <td>1800</td>\n",
       "      <td>1650.0</td>\n",
       "      <td>2015-02-01</td>\n",
       "      <td>Ahmadnagar</td>\n",
       "      <td>Maharashtra</td>\n",
       "    </tr>\n",
       "    <tr>\n",
       "      <th>4</th>\n",
       "      <td>Ahmednagar</td>\n",
       "      <td>bajri</td>\n",
       "      <td>2015</td>\n",
       "      <td>March</td>\n",
       "      <td>14</td>\n",
       "      <td>1350</td>\n",
       "      <td>1700</td>\n",
       "      <td>1525.0</td>\n",
       "      <td>2015-03-01</td>\n",
       "      <td>Ahmadnagar</td>\n",
       "      <td>Maharashtra</td>\n",
       "    </tr>\n",
       "  </tbody>\n",
       "</table>\n",
       "</div>"
      ],
      "text/plain": [
       "         APMC Commodity  Year      Month  arrivals_in_qtl  min_price  \\\n",
       "0  Ahmednagar     bajri  2014  September               24       1400   \n",
       "1  Ahmednagar     bajri  2014   November              395       1507   \n",
       "2  Ahmednagar     bajri  2015    January               97       1472   \n",
       "3  Ahmednagar     bajri  2015   February               10       1500   \n",
       "4  Ahmednagar     bajri  2015      March               14       1350   \n",
       "\n",
       "   max_price  modal_price       date district_name   state_name  \n",
       "0       1750       1575.0 2014-09-01    Ahmadnagar  Maharashtra  \n",
       "1       1750       1629.0 2014-11-01    Ahmadnagar  Maharashtra  \n",
       "2       1764       1618.0 2015-01-01    Ahmadnagar  Maharashtra  \n",
       "3       1800       1650.0 2015-02-01    Ahmadnagar  Maharashtra  \n",
       "4       1700       1525.0 2015-03-01    Ahmadnagar  Maharashtra  "
      ]
     },
     "execution_count": 21,
     "metadata": {},
     "output_type": "execute_result"
    }
   ],
   "source": [
    "df_filtered.head()"
   ]
  },
  {
   "cell_type": "code",
   "execution_count": 22,
   "metadata": {},
   "outputs": [],
   "source": [
    "df_filtered.reset_index(drop=True,inplace=True)\n",
    "df_filtered.to_csv(\"Monthly_data_cmo_filtered.csv\",index=False)"
   ]
  }
 ],
 "metadata": {
  "kernelspec": {
   "display_name": "Python 3",
   "language": "python",
   "name": "python3"
  },
  "language_info": {
   "codemirror_mode": {
    "name": "ipython",
    "version": 3
   },
   "file_extension": ".py",
   "mimetype": "text/x-python",
   "name": "python",
   "nbconvert_exporter": "python",
   "pygments_lexer": "ipython3",
   "version": "3.6.4"
  }
 },
 "nbformat": 4,
 "nbformat_minor": 2
}
