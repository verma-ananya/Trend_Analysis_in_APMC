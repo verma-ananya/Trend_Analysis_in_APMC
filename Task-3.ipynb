{
 "cells": [
  {
   "cell_type": "markdown",
   "metadata": {},
   "source": [
    "### **Task - 3**\n",
    "\n",
    "**Compare prices in APMC/Mandi with MSP(Minimum Support Price)- raw and deseasonalised**\n",
    "\n",
    "Comparing the modal prices (raw and de-seasonalised) in APMC Commodity cluster with MSP(Minimum Support Price) of the commodities through graphs"
   ]
  },
  {
   "cell_type": "code",
   "execution_count": 1,
   "metadata": {},
   "outputs": [],
   "source": [
    "import pandas as pd\n",
    "import matplotlib.pyplot as plt\n",
    "import matplotlib.style as style\n",
    "import numpy as np\n",
    "\n",
    "style.use('seaborn-poster') #sets the size of the chart\n",
    "style.use('ggplot') #styling"
   ]
  },
  {
   "cell_type": "code",
   "execution_count": 6,
   "metadata": {},
   "outputs": [
    {
     "data": {
      "text/html": [
       "<div>\n",
       "<style scoped>\n",
       "    .dataframe tbody tr th:only-of-type {\n",
       "        vertical-align: middle;\n",
       "    }\n",
       "\n",
       "    .dataframe tbody tr th {\n",
       "        vertical-align: top;\n",
       "    }\n",
       "\n",
       "    .dataframe thead th {\n",
       "        text-align: right;\n",
       "    }\n",
       "</style>\n",
       "<table border=\"1\" class=\"dataframe\">\n",
       "  <thead>\n",
       "    <tr style=\"text-align: right;\">\n",
       "      <th></th>\n",
       "      <th>commodity</th>\n",
       "      <th>year</th>\n",
       "      <th>Type</th>\n",
       "      <th>msprice</th>\n",
       "      <th>msp_filter</th>\n",
       "    </tr>\n",
       "  </thead>\n",
       "  <tbody>\n",
       "    <tr>\n",
       "      <th>0</th>\n",
       "      <td>paddy-unhusked</td>\n",
       "      <td>2012-01-01</td>\n",
       "      <td>Kharif Crops</td>\n",
       "      <td>1250.0</td>\n",
       "      <td>1</td>\n",
       "    </tr>\n",
       "    <tr>\n",
       "      <th>1</th>\n",
       "      <td>rice(paddy-hus)</td>\n",
       "      <td>2012-01-01</td>\n",
       "      <td>Kharif Crops</td>\n",
       "      <td>1280.0</td>\n",
       "      <td>1</td>\n",
       "    </tr>\n",
       "    <tr>\n",
       "      <th>2</th>\n",
       "      <td>jowar_hybrid</td>\n",
       "      <td>2012-01-01</td>\n",
       "      <td>Kharif Crops</td>\n",
       "      <td>1500.0</td>\n",
       "      <td>1</td>\n",
       "    </tr>\n",
       "    <tr>\n",
       "      <th>3</th>\n",
       "      <td>sorgum(jawar)</td>\n",
       "      <td>2012-01-01</td>\n",
       "      <td>Kharif Crops</td>\n",
       "      <td>1520.0</td>\n",
       "      <td>1</td>\n",
       "    </tr>\n",
       "    <tr>\n",
       "      <th>4</th>\n",
       "      <td>bajri</td>\n",
       "      <td>2012-01-01</td>\n",
       "      <td>Kharif Crops</td>\n",
       "      <td>1175.0</td>\n",
       "      <td>1</td>\n",
       "    </tr>\n",
       "  </tbody>\n",
       "</table>\n",
       "</div>"
      ],
      "text/plain": [
       "         commodity       year          Type  msprice  msp_filter\n",
       "0   paddy-unhusked 2012-01-01  Kharif Crops   1250.0           1\n",
       "1  rice(paddy-hus) 2012-01-01  Kharif Crops   1280.0           1\n",
       "2     jowar_hybrid 2012-01-01  Kharif Crops   1500.0           1\n",
       "3    sorgum(jawar) 2012-01-01  Kharif Crops   1520.0           1\n",
       "4            bajri 2012-01-01  Kharif Crops   1175.0           1"
      ]
     },
     "execution_count": 6,
     "metadata": {},
     "output_type": "execute_result"
    }
   ],
   "source": [
    "df=pd.read_csv(\"deseasonalize_data.csv\")\n",
    "df[\"date\"]=pd.to_datetime(df[\"date\"])\n",
    "\n",
    "msp_data = pd.read_csv(\"CMO_MSP_Mandi_filtered.csv\")\n",
    "msp_data['commodity'] = msp_data['commodity'].str.lower()\n",
    "msp_data[\"year\"] = pd.to_datetime(msp_data[\"year\"], format='%Y')\n",
    "msp_data.head()\n",
    "\n",
    "# Removing 2012, 2013's data as we don't have modal prices for those years\n",
    "data_msp = msp_data[msp_data['year'] != 2012]\n",
    "data_msp = data_msp[msp_data['year'] != 2013]\n",
    "data_msp[\"year\"]=pd.to_datetime(msp_data[\"year\"], format= '%Y')\n",
    "msp_data.head()"
   ]
  },
  {
   "cell_type": "code",
   "execution_count": 3,
   "metadata": {},
   "outputs": [
    {
     "data": {
      "text/html": [
       "<div>\n",
       "<style scoped>\n",
       "    .dataframe tbody tr th:only-of-type {\n",
       "        vertical-align: middle;\n",
       "    }\n",
       "\n",
       "    .dataframe tbody tr th {\n",
       "        vertical-align: top;\n",
       "    }\n",
       "\n",
       "    .dataframe thead th {\n",
       "        text-align: right;\n",
       "    }\n",
       "</style>\n",
       "<table border=\"1\" class=\"dataframe\">\n",
       "  <thead>\n",
       "    <tr style=\"text-align: right;\">\n",
       "      <th></th>\n",
       "      <th>APMC</th>\n",
       "      <th>Commodity</th>\n",
       "      <th>combination_label</th>\n",
       "      <th>date</th>\n",
       "      <th>modal_price</th>\n",
       "      <th>quarter</th>\n",
       "      <th>deseasonalise_price</th>\n",
       "    </tr>\n",
       "  </thead>\n",
       "  <tbody>\n",
       "    <tr>\n",
       "      <th>0</th>\n",
       "      <td>Akole</td>\n",
       "      <td>bajri</td>\n",
       "      <td>Akole:bajri</td>\n",
       "      <td>2014-09-01</td>\n",
       "      <td>1650.0</td>\n",
       "      <td>3</td>\n",
       "      <td>1664.590398</td>\n",
       "    </tr>\n",
       "    <tr>\n",
       "      <th>1</th>\n",
       "      <td>Akole</td>\n",
       "      <td>bajri</td>\n",
       "      <td>Akole:bajri</td>\n",
       "      <td>2014-10-01</td>\n",
       "      <td>1560.0</td>\n",
       "      <td>4</td>\n",
       "      <td>1588.085197</td>\n",
       "    </tr>\n",
       "    <tr>\n",
       "      <th>2</th>\n",
       "      <td>Akole</td>\n",
       "      <td>bajri</td>\n",
       "      <td>Akole:bajri</td>\n",
       "      <td>2014-11-01</td>\n",
       "      <td>1550.0</td>\n",
       "      <td>4</td>\n",
       "      <td>1572.191403</td>\n",
       "    </tr>\n",
       "    <tr>\n",
       "      <th>3</th>\n",
       "      <td>Akole</td>\n",
       "      <td>bajri</td>\n",
       "      <td>Akole:bajri</td>\n",
       "      <td>2014-12-01</td>\n",
       "      <td>1563.0</td>\n",
       "      <td>4</td>\n",
       "      <td>1536.385799</td>\n",
       "    </tr>\n",
       "    <tr>\n",
       "      <th>4</th>\n",
       "      <td>Akole</td>\n",
       "      <td>bajri</td>\n",
       "      <td>Akole:bajri</td>\n",
       "      <td>2015-01-01</td>\n",
       "      <td>1580.0</td>\n",
       "      <td>1</td>\n",
       "      <td>1607.065791</td>\n",
       "    </tr>\n",
       "  </tbody>\n",
       "</table>\n",
       "</div>"
      ],
      "text/plain": [
       "    APMC Commodity combination_label       date  modal_price  quarter  \\\n",
       "0  Akole     bajri       Akole:bajri 2014-09-01       1650.0        3   \n",
       "1  Akole     bajri       Akole:bajri 2014-10-01       1560.0        4   \n",
       "2  Akole     bajri       Akole:bajri 2014-11-01       1550.0        4   \n",
       "3  Akole     bajri       Akole:bajri 2014-12-01       1563.0        4   \n",
       "4  Akole     bajri       Akole:bajri 2015-01-01       1580.0        1   \n",
       "\n",
       "   deseasonalise_price  \n",
       "0          1664.590398  \n",
       "1          1588.085197  \n",
       "2          1572.191403  \n",
       "3          1536.385799  \n",
       "4          1607.065791  "
      ]
     },
     "execution_count": 3,
     "metadata": {},
     "output_type": "execute_result"
    }
   ],
   "source": [
    "df.head()"
   ]
  },
  {
   "cell_type": "code",
   "execution_count": 17,
   "metadata": {},
   "outputs": [],
   "source": [
    "def compare_price(apmc,commodity):\n",
    "    label = str(apmc)+\":\"+str(commodity)\n",
    "    data_filter = df[df[\"combination_label\"]==label]\n",
    "    \n",
    "    # If no such match found within our data due to:\n",
    "    # 1. Insufficient MSP data\n",
    "    # 2. Invalid apmc,commodity cluster\n",
    "    # 3. Apmc, commodity group which has already been filtered out during pre processing\n",
    "    \n",
    "    if data_filter.shape[0]==0:\n",
    "        return \"Not enough data\"\n",
    "    \n",
    "    msp = msp_data[msp_data['commodity'] == commodity]\n",
    "    msp = msp[['year', 'msprice']]\n",
    "    \n",
    "    xaxis = pd.to_datetime(data_filter['date'])\n",
    "    plt.figure(figsize=(9,7))\n",
    "    plt.plot(data_filter['date'], data_filter['modal_price'])\n",
    "    plt.plot(data_filter['date'], data_filter['deseasonalise_price'])\n",
    "    plt.plot(msp['year'],msp['msprice'])\n",
    "    plt.xticks(rotation=45)\n",
    "    plt.legend(['Actual price','De-seasonalised price','msprice'])\n",
    "    plt.show()"
   ]
  },
  {
   "cell_type": "code",
   "execution_count": 18,
   "metadata": {},
   "outputs": [
    {
     "name": "stdout",
     "output_type": "stream",
     "text": [
      "Enter APMC: Akole\n",
      "Enter commodity within the APMC bajri\n"
     ]
    },
    {
     "data": {
      "image/png": "[encoded data removed]",
      "text/plain": [
       "<matplotlib.figure.Figure at 0x2b4b0777e10>"
      ]
     },
     "metadata": {},
     "output_type": "display_data"
    }
   ],
   "source": [
    "apmc = input(\"Enter APMC: \")\n",
    "commodity = input(\"Enter commodity within the APMC \")\n",
    "\n",
    "compare_price(apmc,commodity)"
   ]
  },
  {
   "cell_type": "code",
   "execution_count": 43,
   "metadata": {},
   "outputs": [],
   "source": [
    "#\"\"\"commodities = msp_data['commodity'].unique().tolist()\n",
    "#indices=df.index.tolist()\n",
    "#msp_indices=msp_data.index.tolist()\"\"\"\n"
   ]
  },
  {
   "cell_type": "code",
   "execution_count": 42,
   "metadata": {},
   "outputs": [],
   "source": [
    "#data_main = pd.DataFrame()\n",
    "#data_main = df\n",
    "#data_main[\"modal_compare\"] = \"\"\n",
    "#data_main[\"deseasonalize_compare\"] = \"\"\n",
    "\n",
    "#for index,commodity in zip(indices,commodities):\n",
    "#    if(df.at[index,\"Commodity\"]==commodity):\n",
    "#        for msp_index in zip(msp_indices):\n",
    " #           msprice = msp_data.loc[msp_data.commodity==commodity,'msprice'].values[0]\n",
    "  #      if(df.at[index,'modal_price']>=msprice):\n",
    "   #         data_main.at[index, \"modal_compare\" ] = \"above msp\"\n",
    "    #    else:\n",
    "     #       data_main.at[index, \"modal_compare\" ] = \"below msp\"\n",
    "#    if(df.at[index,\"Commodity\"]==commodity):\n",
    "#        for msp_index in zip(msp_indices):\n",
    "#             msprice = msp_data.loc[msp_data.commodity==commodity,'msprice'].values[0]\n",
    "#        if(df.at[index,'deseasonalise_price']>=msprice):\n",
    "#            data_main.at[index, \"deseasonalize_compare\" ] = \"above msp\"\n",
    "#        else:\n",
    "#            data_main.at[index, \"deseasonalize_compare\" ] = \"below msp\""
   ]
  }
 ],
 "metadata": {
  "kernelspec": {
   "display_name": "Python 3",
   "language": "python",
   "name": "python3"
  },
  "language_info": {
   "codemirror_mode": {
    "name": "ipython",
    "version": 3
   },
   "file_extension": ".py",
   "mimetype": "text/x-python",
   "name": "python",
   "nbconvert_exporter": "python",
   "pygments_lexer": "ipython3",
   "version": "3.6.4"
  }
 },
 "nbformat": 4,
 "nbformat_minor": 2
}
